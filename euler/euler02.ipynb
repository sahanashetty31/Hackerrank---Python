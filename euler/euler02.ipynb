{
 "cells": [
  {
   "cell_type": "code",
   "execution_count": null,
   "metadata": {},
   "outputs": [],
   "source": [
    "Project Euler #2: Even Fibonacci numbers\n",
    "https://www.hackerrank.com/contests/projecteuler/challenges/euler002/problem"
   ]
  },
  {
   "cell_type": "code",
   "execution_count": 16,
   "metadata": {},
   "outputs": [
    {
     "name": "stdout",
     "output_type": "stream",
     "text": [
      "10\n"
     ]
    }
   ],
   "source": [
    "sum = 0\n",
    "a = []\n",
    "a.append(1)\n",
    "a.append(2)\n",
    "n = 10\n",
    "for x in range(2,n):\n",
    "    a.append(a[x-1]+ a[x-2])\n",
    "    if(a[x] >= n):\n",
    "        break\n",
    "for y in range(0, len(a)):  \n",
    "    if(a[y] % 2 == 0 and a[y] < n):\n",
    "        sum = sum + a[y]\n",
    "print(sum)"
   ]
  }
 ],
 "metadata": {
  "kernelspec": {
   "display_name": "Python 3",
   "language": "python",
   "name": "python3"
  },
  "language_info": {
   "codemirror_mode": {
    "name": "ipython",
    "version": 3
   },
   "file_extension": ".py",
   "mimetype": "text/x-python",
   "name": "python",
   "nbconvert_exporter": "python",
   "pygments_lexer": "ipython3",
   "version": "3.6.9"
  }
 },
 "nbformat": 4,
 "nbformat_minor": 2
}
