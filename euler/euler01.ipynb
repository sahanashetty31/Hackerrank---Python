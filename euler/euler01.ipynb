{
 "cells": [
  {
   "cell_type": "code",
   "execution_count": 12,
   "metadata": {},
   "outputs": [
    {
     "name": "stdout",
     "output_type": "stream",
     "text": [
      "3\n",
      "5\n",
      "6\n",
      "9\n",
      "23\n"
     ]
    }
   ],
   "source": [
    "\n",
    "sum = 0\n",
    "for x in range(1,10):\n",
    "    if(x % 3 == 0):\n",
    "        print(x)\n",
    "        sum = sum + x\n",
    "    elif(x % 5 == 0):\n",
    "        print(x)    \n",
    "        sum = sum + x\n",
    "print(sum)"
   ]
  },
  {
   "cell_type": "code",
   "execution_count": null,
   "metadata": {},
   "outputs": [
    {
     "name": "stdout",
     "output_type": "stream",
     "text": [
      "5\n",
      "3\n",
      "0\n",
      "2\n",
      "0\n",
      "15\n",
      "45\n",
      "23\n",
      "119\n"
     ]
    }
   ],
   "source": [
    "import sys\n",
    "\n",
    "\n",
    "t = int(input())\n",
    "\n",
    "for a0 in range(t):\n",
    "    n = int(input().strip())\n",
    "   \n",
    "\n",
    "    sum = 0\n",
    "    for x in range(1,n):\n",
    "        if(x % 3 == 0):\n",
    "        \n",
    "            sum = sum + x\n",
    "        elif(x % 5 == 0):\n",
    "                \n",
    "            sum = sum + x\n",
    "    print(sum)\n"
   ]
  },
  {
   "cell_type": "code",
   "execution_count": null,
   "metadata": {},
   "outputs": [],
   "source": [
    "import sys\n",
    "\n",
    "\n",
    "t = int(input())\n",
    "\n",
    "for a0 in range(t):\n",
    "    n = int(input().strip())\n",
    "   \n",
    "\n",
    "    sum = 0\n",
    "    for x in range(1,n):\n",
    "        if(x % 3 == 0 or x % 5 == 0):\n",
    "            sum = sum + x\n",
    "    print(sum)"
   ]
  }
 ],
 "metadata": {
  "kernelspec": {
   "display_name": "Python 3",
   "language": "python",
   "name": "python3"
  },
  "language_info": {
   "codemirror_mode": {
    "name": "ipython",
    "version": 3
   },
   "file_extension": ".py",
   "mimetype": "text/x-python",
   "name": "python",
   "nbconvert_exporter": "python",
   "pygments_lexer": "ipython3",
   "version": "3.6.9"
  }
 },
 "nbformat": 4,
 "nbformat_minor": 2
}
